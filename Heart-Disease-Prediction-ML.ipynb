{
 "cells": [
  {
   "cell_type": "code",
   "execution_count": 67,
   "metadata": {},
   "outputs": [],
   "source": [
    "import pandas as pd\n",
    "import numpy as np\n",
    "import matplotlib.pyplot as plt\n",
    "import seaborn as sn\n",
    "from sklearn.model_selection import train_test_split\n",
    "from sklearn.preprocessing import StandardScaler"
   ]
  },
  {
   "cell_type": "code",
   "execution_count": 68,
   "metadata": {},
   "outputs": [
    {
     "data": {
      "text/html": [
       "<div>\n",
       "<style scoped>\n",
       "    .dataframe tbody tr th:only-of-type {\n",
       "        vertical-align: middle;\n",
       "    }\n",
       "\n",
       "    .dataframe tbody tr th {\n",
       "        vertical-align: top;\n",
       "    }\n",
       "\n",
       "    .dataframe thead th {\n",
       "        text-align: right;\n",
       "    }\n",
       "</style>\n",
       "<table border=\"1\" class=\"dataframe\">\n",
       "  <thead>\n",
       "    <tr style=\"text-align: right;\">\n",
       "      <th></th>\n",
       "      <th>age</th>\n",
       "      <th>sex</th>\n",
       "      <th>cp</th>\n",
       "      <th>trestbps</th>\n",
       "      <th>chol</th>\n",
       "      <th>fbs</th>\n",
       "      <th>restecg</th>\n",
       "      <th>thalach</th>\n",
       "      <th>exang</th>\n",
       "      <th>oldpeak</th>\n",
       "      <th>slope</th>\n",
       "      <th>ca</th>\n",
       "      <th>thal</th>\n",
       "      <th>target</th>\n",
       "    </tr>\n",
       "  </thead>\n",
       "  <tbody>\n",
       "    <tr>\n",
       "      <th>0</th>\n",
       "      <td>63</td>\n",
       "      <td>1</td>\n",
       "      <td>3</td>\n",
       "      <td>145</td>\n",
       "      <td>233</td>\n",
       "      <td>1</td>\n",
       "      <td>0</td>\n",
       "      <td>150</td>\n",
       "      <td>0</td>\n",
       "      <td>2.3</td>\n",
       "      <td>0</td>\n",
       "      <td>0</td>\n",
       "      <td>1</td>\n",
       "      <td>1</td>\n",
       "    </tr>\n",
       "    <tr>\n",
       "      <th>1</th>\n",
       "      <td>37</td>\n",
       "      <td>1</td>\n",
       "      <td>2</td>\n",
       "      <td>130</td>\n",
       "      <td>250</td>\n",
       "      <td>0</td>\n",
       "      <td>1</td>\n",
       "      <td>187</td>\n",
       "      <td>0</td>\n",
       "      <td>3.5</td>\n",
       "      <td>0</td>\n",
       "      <td>0</td>\n",
       "      <td>2</td>\n",
       "      <td>1</td>\n",
       "    </tr>\n",
       "    <tr>\n",
       "      <th>2</th>\n",
       "      <td>41</td>\n",
       "      <td>0</td>\n",
       "      <td>1</td>\n",
       "      <td>130</td>\n",
       "      <td>204</td>\n",
       "      <td>0</td>\n",
       "      <td>0</td>\n",
       "      <td>172</td>\n",
       "      <td>0</td>\n",
       "      <td>1.4</td>\n",
       "      <td>2</td>\n",
       "      <td>0</td>\n",
       "      <td>2</td>\n",
       "      <td>1</td>\n",
       "    </tr>\n",
       "    <tr>\n",
       "      <th>3</th>\n",
       "      <td>56</td>\n",
       "      <td>1</td>\n",
       "      <td>1</td>\n",
       "      <td>120</td>\n",
       "      <td>236</td>\n",
       "      <td>0</td>\n",
       "      <td>1</td>\n",
       "      <td>178</td>\n",
       "      <td>0</td>\n",
       "      <td>0.8</td>\n",
       "      <td>2</td>\n",
       "      <td>0</td>\n",
       "      <td>2</td>\n",
       "      <td>1</td>\n",
       "    </tr>\n",
       "    <tr>\n",
       "      <th>4</th>\n",
       "      <td>57</td>\n",
       "      <td>0</td>\n",
       "      <td>0</td>\n",
       "      <td>120</td>\n",
       "      <td>354</td>\n",
       "      <td>0</td>\n",
       "      <td>1</td>\n",
       "      <td>163</td>\n",
       "      <td>1</td>\n",
       "      <td>0.6</td>\n",
       "      <td>2</td>\n",
       "      <td>0</td>\n",
       "      <td>2</td>\n",
       "      <td>1</td>\n",
       "    </tr>\n",
       "  </tbody>\n",
       "</table>\n",
       "</div>"
      ],
      "text/plain": [
       "   age  sex  cp  trestbps  chol  fbs  restecg  thalach  exang  oldpeak  slope  \\\n",
       "0   63    1   3       145   233    1        0      150      0      2.3      0   \n",
       "1   37    1   2       130   250    0        1      187      0      3.5      0   \n",
       "2   41    0   1       130   204    0        0      172      0      1.4      2   \n",
       "3   56    1   1       120   236    0        1      178      0      0.8      2   \n",
       "4   57    0   0       120   354    0        1      163      1      0.6      2   \n",
       "\n",
       "   ca  thal  target  \n",
       "0   0     1       1  \n",
       "1   0     2       1  \n",
       "2   0     2       1  \n",
       "3   0     2       1  \n",
       "4   0     2       1  "
      ]
     },
     "execution_count": 68,
     "metadata": {},
     "output_type": "execute_result"
    }
   ],
   "source": [
    "df = pd.read_csv(r'heart.csv')\n",
    "df.head()"
   ]
  },
  {
   "cell_type": "code",
   "execution_count": 69,
   "metadata": {},
   "outputs": [],
   "source": [
    "#only required if the headers are not mentioned\n",
    "#headers = ['age','sex','cp','trestbps','chol','fbs','restecg','thalach','exang','oldpeak','slope','ca','thal','num']\n",
    "#df.columns=headers"
   ]
  },
  {
   "cell_type": "code",
   "execution_count": 70,
   "metadata": {},
   "outputs": [
    {
     "data": {
      "text/html": [
       "<div>\n",
       "<style scoped>\n",
       "    .dataframe tbody tr th:only-of-type {\n",
       "        vertical-align: middle;\n",
       "    }\n",
       "\n",
       "    .dataframe tbody tr th {\n",
       "        vertical-align: top;\n",
       "    }\n",
       "\n",
       "    .dataframe thead th {\n",
       "        text-align: right;\n",
       "    }\n",
       "</style>\n",
       "<table border=\"1\" class=\"dataframe\">\n",
       "  <thead>\n",
       "    <tr style=\"text-align: right;\">\n",
       "      <th></th>\n",
       "      <th>age</th>\n",
       "      <th>sex</th>\n",
       "      <th>cp</th>\n",
       "      <th>trestbps</th>\n",
       "      <th>chol</th>\n",
       "      <th>fbs</th>\n",
       "      <th>restecg</th>\n",
       "      <th>thalach</th>\n",
       "      <th>exang</th>\n",
       "      <th>oldpeak</th>\n",
       "      <th>slope</th>\n",
       "      <th>ca</th>\n",
       "      <th>thal</th>\n",
       "      <th>target</th>\n",
       "    </tr>\n",
       "  </thead>\n",
       "  <tbody>\n",
       "    <tr>\n",
       "      <th>0</th>\n",
       "      <td>63</td>\n",
       "      <td>1</td>\n",
       "      <td>3</td>\n",
       "      <td>145</td>\n",
       "      <td>233</td>\n",
       "      <td>1</td>\n",
       "      <td>0</td>\n",
       "      <td>150</td>\n",
       "      <td>0</td>\n",
       "      <td>2.3</td>\n",
       "      <td>0</td>\n",
       "      <td>0</td>\n",
       "      <td>1</td>\n",
       "      <td>1</td>\n",
       "    </tr>\n",
       "    <tr>\n",
       "      <th>1</th>\n",
       "      <td>37</td>\n",
       "      <td>1</td>\n",
       "      <td>2</td>\n",
       "      <td>130</td>\n",
       "      <td>250</td>\n",
       "      <td>0</td>\n",
       "      <td>1</td>\n",
       "      <td>187</td>\n",
       "      <td>0</td>\n",
       "      <td>3.5</td>\n",
       "      <td>0</td>\n",
       "      <td>0</td>\n",
       "      <td>2</td>\n",
       "      <td>1</td>\n",
       "    </tr>\n",
       "    <tr>\n",
       "      <th>2</th>\n",
       "      <td>41</td>\n",
       "      <td>0</td>\n",
       "      <td>1</td>\n",
       "      <td>130</td>\n",
       "      <td>204</td>\n",
       "      <td>0</td>\n",
       "      <td>0</td>\n",
       "      <td>172</td>\n",
       "      <td>0</td>\n",
       "      <td>1.4</td>\n",
       "      <td>2</td>\n",
       "      <td>0</td>\n",
       "      <td>2</td>\n",
       "      <td>1</td>\n",
       "    </tr>\n",
       "    <tr>\n",
       "      <th>3</th>\n",
       "      <td>56</td>\n",
       "      <td>1</td>\n",
       "      <td>1</td>\n",
       "      <td>120</td>\n",
       "      <td>236</td>\n",
       "      <td>0</td>\n",
       "      <td>1</td>\n",
       "      <td>178</td>\n",
       "      <td>0</td>\n",
       "      <td>0.8</td>\n",
       "      <td>2</td>\n",
       "      <td>0</td>\n",
       "      <td>2</td>\n",
       "      <td>1</td>\n",
       "    </tr>\n",
       "    <tr>\n",
       "      <th>4</th>\n",
       "      <td>57</td>\n",
       "      <td>0</td>\n",
       "      <td>0</td>\n",
       "      <td>120</td>\n",
       "      <td>354</td>\n",
       "      <td>0</td>\n",
       "      <td>1</td>\n",
       "      <td>163</td>\n",
       "      <td>1</td>\n",
       "      <td>0.6</td>\n",
       "      <td>2</td>\n",
       "      <td>0</td>\n",
       "      <td>2</td>\n",
       "      <td>1</td>\n",
       "    </tr>\n",
       "  </tbody>\n",
       "</table>\n",
       "</div>"
      ],
      "text/plain": [
       "   age  sex  cp  trestbps  chol  fbs  restecg  thalach  exang  oldpeak  slope  \\\n",
       "0   63    1   3       145   233    1        0      150      0      2.3      0   \n",
       "1   37    1   2       130   250    0        1      187      0      3.5      0   \n",
       "2   41    0   1       130   204    0        0      172      0      1.4      2   \n",
       "3   56    1   1       120   236    0        1      178      0      0.8      2   \n",
       "4   57    0   0       120   354    0        1      163      1      0.6      2   \n",
       "\n",
       "   ca  thal  target  \n",
       "0   0     1       1  \n",
       "1   0     2       1  \n",
       "2   0     2       1  \n",
       "3   0     2       1  \n",
       "4   0     2       1  "
      ]
     },
     "execution_count": 70,
     "metadata": {},
     "output_type": "execute_result"
    }
   ],
   "source": [
    "df.head()"
   ]
  },
  {
   "cell_type": "code",
   "execution_count": 71,
   "metadata": {},
   "outputs": [
    {
     "data": {
      "text/html": [
       "<div>\n",
       "<style scoped>\n",
       "    .dataframe tbody tr th:only-of-type {\n",
       "        vertical-align: middle;\n",
       "    }\n",
       "\n",
       "    .dataframe tbody tr th {\n",
       "        vertical-align: top;\n",
       "    }\n",
       "\n",
       "    .dataframe thead th {\n",
       "        text-align: right;\n",
       "    }\n",
       "</style>\n",
       "<table border=\"1\" class=\"dataframe\">\n",
       "  <thead>\n",
       "    <tr style=\"text-align: right;\">\n",
       "      <th></th>\n",
       "      <th>age</th>\n",
       "      <th>sex</th>\n",
       "      <th>cp</th>\n",
       "      <th>trestbps</th>\n",
       "      <th>chol</th>\n",
       "      <th>fbs</th>\n",
       "      <th>restecg</th>\n",
       "      <th>thalach</th>\n",
       "      <th>exang</th>\n",
       "      <th>oldpeak</th>\n",
       "      <th>slope</th>\n",
       "      <th>ca</th>\n",
       "      <th>thal</th>\n",
       "      <th>target</th>\n",
       "    </tr>\n",
       "  </thead>\n",
       "  <tbody>\n",
       "    <tr>\n",
       "      <th>count</th>\n",
       "      <td>303.000000</td>\n",
       "      <td>303.000000</td>\n",
       "      <td>303.000000</td>\n",
       "      <td>303.000000</td>\n",
       "      <td>303.000000</td>\n",
       "      <td>303.000000</td>\n",
       "      <td>303.000000</td>\n",
       "      <td>303.000000</td>\n",
       "      <td>303.000000</td>\n",
       "      <td>303.000000</td>\n",
       "      <td>303.000000</td>\n",
       "      <td>303.000000</td>\n",
       "      <td>303.000000</td>\n",
       "      <td>303.000000</td>\n",
       "    </tr>\n",
       "    <tr>\n",
       "      <th>mean</th>\n",
       "      <td>54.366337</td>\n",
       "      <td>0.683168</td>\n",
       "      <td>0.966997</td>\n",
       "      <td>131.623762</td>\n",
       "      <td>246.264026</td>\n",
       "      <td>0.148515</td>\n",
       "      <td>0.528053</td>\n",
       "      <td>149.646865</td>\n",
       "      <td>0.326733</td>\n",
       "      <td>1.039604</td>\n",
       "      <td>1.399340</td>\n",
       "      <td>0.729373</td>\n",
       "      <td>2.313531</td>\n",
       "      <td>0.544554</td>\n",
       "    </tr>\n",
       "    <tr>\n",
       "      <th>std</th>\n",
       "      <td>9.082101</td>\n",
       "      <td>0.466011</td>\n",
       "      <td>1.032052</td>\n",
       "      <td>17.538143</td>\n",
       "      <td>51.830751</td>\n",
       "      <td>0.356198</td>\n",
       "      <td>0.525860</td>\n",
       "      <td>22.905161</td>\n",
       "      <td>0.469794</td>\n",
       "      <td>1.161075</td>\n",
       "      <td>0.616226</td>\n",
       "      <td>1.022606</td>\n",
       "      <td>0.612277</td>\n",
       "      <td>0.498835</td>\n",
       "    </tr>\n",
       "    <tr>\n",
       "      <th>min</th>\n",
       "      <td>29.000000</td>\n",
       "      <td>0.000000</td>\n",
       "      <td>0.000000</td>\n",
       "      <td>94.000000</td>\n",
       "      <td>126.000000</td>\n",
       "      <td>0.000000</td>\n",
       "      <td>0.000000</td>\n",
       "      <td>71.000000</td>\n",
       "      <td>0.000000</td>\n",
       "      <td>0.000000</td>\n",
       "      <td>0.000000</td>\n",
       "      <td>0.000000</td>\n",
       "      <td>0.000000</td>\n",
       "      <td>0.000000</td>\n",
       "    </tr>\n",
       "    <tr>\n",
       "      <th>25%</th>\n",
       "      <td>47.500000</td>\n",
       "      <td>0.000000</td>\n",
       "      <td>0.000000</td>\n",
       "      <td>120.000000</td>\n",
       "      <td>211.000000</td>\n",
       "      <td>0.000000</td>\n",
       "      <td>0.000000</td>\n",
       "      <td>133.500000</td>\n",
       "      <td>0.000000</td>\n",
       "      <td>0.000000</td>\n",
       "      <td>1.000000</td>\n",
       "      <td>0.000000</td>\n",
       "      <td>2.000000</td>\n",
       "      <td>0.000000</td>\n",
       "    </tr>\n",
       "    <tr>\n",
       "      <th>50%</th>\n",
       "      <td>55.000000</td>\n",
       "      <td>1.000000</td>\n",
       "      <td>1.000000</td>\n",
       "      <td>130.000000</td>\n",
       "      <td>240.000000</td>\n",
       "      <td>0.000000</td>\n",
       "      <td>1.000000</td>\n",
       "      <td>153.000000</td>\n",
       "      <td>0.000000</td>\n",
       "      <td>0.800000</td>\n",
       "      <td>1.000000</td>\n",
       "      <td>0.000000</td>\n",
       "      <td>2.000000</td>\n",
       "      <td>1.000000</td>\n",
       "    </tr>\n",
       "    <tr>\n",
       "      <th>75%</th>\n",
       "      <td>61.000000</td>\n",
       "      <td>1.000000</td>\n",
       "      <td>2.000000</td>\n",
       "      <td>140.000000</td>\n",
       "      <td>274.500000</td>\n",
       "      <td>0.000000</td>\n",
       "      <td>1.000000</td>\n",
       "      <td>166.000000</td>\n",
       "      <td>1.000000</td>\n",
       "      <td>1.600000</td>\n",
       "      <td>2.000000</td>\n",
       "      <td>1.000000</td>\n",
       "      <td>3.000000</td>\n",
       "      <td>1.000000</td>\n",
       "    </tr>\n",
       "    <tr>\n",
       "      <th>max</th>\n",
       "      <td>77.000000</td>\n",
       "      <td>1.000000</td>\n",
       "      <td>3.000000</td>\n",
       "      <td>200.000000</td>\n",
       "      <td>564.000000</td>\n",
       "      <td>1.000000</td>\n",
       "      <td>2.000000</td>\n",
       "      <td>202.000000</td>\n",
       "      <td>1.000000</td>\n",
       "      <td>6.200000</td>\n",
       "      <td>2.000000</td>\n",
       "      <td>4.000000</td>\n",
       "      <td>3.000000</td>\n",
       "      <td>1.000000</td>\n",
       "    </tr>\n",
       "  </tbody>\n",
       "</table>\n",
       "</div>"
      ],
      "text/plain": [
       "              age         sex          cp    trestbps        chol         fbs  \\\n",
       "count  303.000000  303.000000  303.000000  303.000000  303.000000  303.000000   \n",
       "mean    54.366337    0.683168    0.966997  131.623762  246.264026    0.148515   \n",
       "std      9.082101    0.466011    1.032052   17.538143   51.830751    0.356198   \n",
       "min     29.000000    0.000000    0.000000   94.000000  126.000000    0.000000   \n",
       "25%     47.500000    0.000000    0.000000  120.000000  211.000000    0.000000   \n",
       "50%     55.000000    1.000000    1.000000  130.000000  240.000000    0.000000   \n",
       "75%     61.000000    1.000000    2.000000  140.000000  274.500000    0.000000   \n",
       "max     77.000000    1.000000    3.000000  200.000000  564.000000    1.000000   \n",
       "\n",
       "          restecg     thalach       exang     oldpeak       slope          ca  \\\n",
       "count  303.000000  303.000000  303.000000  303.000000  303.000000  303.000000   \n",
       "mean     0.528053  149.646865    0.326733    1.039604    1.399340    0.729373   \n",
       "std      0.525860   22.905161    0.469794    1.161075    0.616226    1.022606   \n",
       "min      0.000000   71.000000    0.000000    0.000000    0.000000    0.000000   \n",
       "25%      0.000000  133.500000    0.000000    0.000000    1.000000    0.000000   \n",
       "50%      1.000000  153.000000    0.000000    0.800000    1.000000    0.000000   \n",
       "75%      1.000000  166.000000    1.000000    1.600000    2.000000    1.000000   \n",
       "max      2.000000  202.000000    1.000000    6.200000    2.000000    4.000000   \n",
       "\n",
       "             thal      target  \n",
       "count  303.000000  303.000000  \n",
       "mean     2.313531    0.544554  \n",
       "std      0.612277    0.498835  \n",
       "min      0.000000    0.000000  \n",
       "25%      2.000000    0.000000  \n",
       "50%      2.000000    1.000000  \n",
       "75%      3.000000    1.000000  \n",
       "max      3.000000    1.000000  "
      ]
     },
     "execution_count": 71,
     "metadata": {},
     "output_type": "execute_result"
    }
   ],
   "source": [
    "df.describe()"
   ]
  },
  {
   "cell_type": "code",
   "execution_count": 72,
   "metadata": {},
   "outputs": [
    {
     "data": {
      "text/plain": [
       "1    165\n",
       "0    138\n",
       "Name: target, dtype: int64"
      ]
     },
     "execution_count": 72,
     "metadata": {},
     "output_type": "execute_result"
    }
   ],
   "source": [
    "df['target'].value_counts()"
   ]
  },
  {
   "cell_type": "code",
   "execution_count": 73,
   "metadata": {},
   "outputs": [
    {
     "data": {
      "text/plain": [
       "age           int64\n",
       "sex           int64\n",
       "cp            int64\n",
       "trestbps      int64\n",
       "chol          int64\n",
       "fbs           int64\n",
       "restecg       int64\n",
       "thalach       int64\n",
       "exang         int64\n",
       "oldpeak     float64\n",
       "slope         int64\n",
       "ca            int64\n",
       "thal          int64\n",
       "target        int64\n",
       "dtype: object"
      ]
     },
     "execution_count": 73,
     "metadata": {},
     "output_type": "execute_result"
    }
   ],
   "source": [
    "df.dtypes"
   ]
  },
  {
   "cell_type": "code",
   "execution_count": 74,
   "metadata": {},
   "outputs": [
    {
     "data": {
      "text/plain": [
       "0    0.413121\n",
       "1    0.443262\n",
       "2    0.361702\n",
       "3    0.418440\n",
       "4    0.627660\n",
       "Name: chol, dtype: float64"
      ]
     },
     "execution_count": 74,
     "metadata": {},
     "output_type": "execute_result"
    }
   ],
   "source": [
    "df['chol'] = df['chol']/df['chol'].max()\n",
    "df['chol'].head()"
   ]
  },
  {
   "cell_type": "code",
   "execution_count": 75,
   "metadata": {},
   "outputs": [
    {
     "data": {
      "text/plain": [
       "0    0.725\n",
       "1    0.650\n",
       "2    0.650\n",
       "3    0.600\n",
       "4    0.600\n",
       "Name: trestbps, dtype: float64"
      ]
     },
     "execution_count": 75,
     "metadata": {},
     "output_type": "execute_result"
    }
   ],
   "source": [
    "df['trestbps']=df['trestbps']/df['trestbps'].max()\n",
    "df['trestbps'].head()"
   ]
  },
  {
   "cell_type": "code",
   "execution_count": 76,
   "metadata": {},
   "outputs": [
    {
     "data": {
      "text/plain": [
       "0    0.742574\n",
       "1    0.925743\n",
       "2    0.851485\n",
       "3    0.881188\n",
       "4    0.806931\n",
       "Name: thalach, dtype: float64"
      ]
     },
     "execution_count": 76,
     "metadata": {},
     "output_type": "execute_result"
    }
   ],
   "source": [
    "df['thalach']=df['thalach']/df['thalach'].max()\n",
    "df['thalach'].head()"
   ]
  },
  {
   "cell_type": "code",
   "execution_count": 77,
   "metadata": {},
   "outputs": [
    {
     "data": {
      "text/html": [
       "<div>\n",
       "<style scoped>\n",
       "    .dataframe tbody tr th:only-of-type {\n",
       "        vertical-align: middle;\n",
       "    }\n",
       "\n",
       "    .dataframe tbody tr th {\n",
       "        vertical-align: top;\n",
       "    }\n",
       "\n",
       "    .dataframe thead th {\n",
       "        text-align: right;\n",
       "    }\n",
       "</style>\n",
       "<table border=\"1\" class=\"dataframe\">\n",
       "  <thead>\n",
       "    <tr style=\"text-align: right;\">\n",
       "      <th></th>\n",
       "      <th>age</th>\n",
       "      <th>sex</th>\n",
       "      <th>cp</th>\n",
       "      <th>trestbps</th>\n",
       "      <th>chol</th>\n",
       "      <th>fbs</th>\n",
       "      <th>restecg</th>\n",
       "      <th>thalach</th>\n",
       "      <th>exang</th>\n",
       "      <th>oldpeak</th>\n",
       "      <th>slope</th>\n",
       "      <th>ca</th>\n",
       "      <th>thal</th>\n",
       "      <th>target</th>\n",
       "    </tr>\n",
       "  </thead>\n",
       "  <tbody>\n",
       "    <tr>\n",
       "      <th>0</th>\n",
       "      <td>63</td>\n",
       "      <td>1</td>\n",
       "      <td>3</td>\n",
       "      <td>0.725</td>\n",
       "      <td>0.413121</td>\n",
       "      <td>1</td>\n",
       "      <td>0</td>\n",
       "      <td>0.742574</td>\n",
       "      <td>0</td>\n",
       "      <td>2.3</td>\n",
       "      <td>0</td>\n",
       "      <td>0</td>\n",
       "      <td>1</td>\n",
       "      <td>1</td>\n",
       "    </tr>\n",
       "    <tr>\n",
       "      <th>1</th>\n",
       "      <td>37</td>\n",
       "      <td>1</td>\n",
       "      <td>2</td>\n",
       "      <td>0.650</td>\n",
       "      <td>0.443262</td>\n",
       "      <td>0</td>\n",
       "      <td>1</td>\n",
       "      <td>0.925743</td>\n",
       "      <td>0</td>\n",
       "      <td>3.5</td>\n",
       "      <td>0</td>\n",
       "      <td>0</td>\n",
       "      <td>2</td>\n",
       "      <td>1</td>\n",
       "    </tr>\n",
       "    <tr>\n",
       "      <th>2</th>\n",
       "      <td>41</td>\n",
       "      <td>0</td>\n",
       "      <td>1</td>\n",
       "      <td>0.650</td>\n",
       "      <td>0.361702</td>\n",
       "      <td>0</td>\n",
       "      <td>0</td>\n",
       "      <td>0.851485</td>\n",
       "      <td>0</td>\n",
       "      <td>1.4</td>\n",
       "      <td>2</td>\n",
       "      <td>0</td>\n",
       "      <td>2</td>\n",
       "      <td>1</td>\n",
       "    </tr>\n",
       "    <tr>\n",
       "      <th>3</th>\n",
       "      <td>56</td>\n",
       "      <td>1</td>\n",
       "      <td>1</td>\n",
       "      <td>0.600</td>\n",
       "      <td>0.418440</td>\n",
       "      <td>0</td>\n",
       "      <td>1</td>\n",
       "      <td>0.881188</td>\n",
       "      <td>0</td>\n",
       "      <td>0.8</td>\n",
       "      <td>2</td>\n",
       "      <td>0</td>\n",
       "      <td>2</td>\n",
       "      <td>1</td>\n",
       "    </tr>\n",
       "    <tr>\n",
       "      <th>4</th>\n",
       "      <td>57</td>\n",
       "      <td>0</td>\n",
       "      <td>0</td>\n",
       "      <td>0.600</td>\n",
       "      <td>0.627660</td>\n",
       "      <td>0</td>\n",
       "      <td>1</td>\n",
       "      <td>0.806931</td>\n",
       "      <td>1</td>\n",
       "      <td>0.6</td>\n",
       "      <td>2</td>\n",
       "      <td>0</td>\n",
       "      <td>2</td>\n",
       "      <td>1</td>\n",
       "    </tr>\n",
       "  </tbody>\n",
       "</table>\n",
       "</div>"
      ],
      "text/plain": [
       "   age  sex  cp  trestbps      chol  fbs  restecg   thalach  exang  oldpeak  \\\n",
       "0   63    1   3     0.725  0.413121    1        0  0.742574      0      2.3   \n",
       "1   37    1   2     0.650  0.443262    0        1  0.925743      0      3.5   \n",
       "2   41    0   1     0.650  0.361702    0        0  0.851485      0      1.4   \n",
       "3   56    1   1     0.600  0.418440    0        1  0.881188      0      0.8   \n",
       "4   57    0   0     0.600  0.627660    0        1  0.806931      1      0.6   \n",
       "\n",
       "   slope  ca  thal  target  \n",
       "0      0   0     1       1  \n",
       "1      0   0     2       1  \n",
       "2      2   0     2       1  \n",
       "3      2   0     2       1  \n",
       "4      2   0     2       1  "
      ]
     },
     "execution_count": 77,
     "metadata": {},
     "output_type": "execute_result"
    }
   ],
   "source": [
    "df.head()"
   ]
  },
  {
   "cell_type": "code",
   "execution_count": 78,
   "metadata": {},
   "outputs": [],
   "source": [
    "df[[\"age\"]] = df[[\"age\"]].astype(\"int64\")"
   ]
  },
  {
   "cell_type": "code",
   "execution_count": 79,
   "metadata": {},
   "outputs": [
    {
     "data": {
      "image/png": "[encoded data removed]",
      "text/plain": [
       "<Figure size 864x864 with 1 Axes>"
      ]
     },
     "metadata": {
      "needs_background": "light"
     },
     "output_type": "display_data"
    }
   ],
   "source": [
    "#\n",
    "df.age.plot(kind = 'hist', bins = 100, figsize = (12,12))\n",
    "plt.show()"
   ]
  },
  {
   "cell_type": "code",
   "execution_count": 80,
   "metadata": {},
   "outputs": [
    {
     "data": {
      "text/plain": [
       "<matplotlib.axes._subplots.AxesSubplot at 0x1e221257da0>"
      ]
     },
     "execution_count": 80,
     "metadata": {},
     "output_type": "execute_result"
    },
    {
     "data": {
      "image/png": "[encoded data removed]",
      "text/plain": [
       "<Figure size 648x648 with 1 Axes>"
      ]
     },
     "metadata": {
      "needs_background": "light"
     },
     "output_type": "display_data"
    }
   ],
   "source": [
    "#Distribution of class label\n",
    "# 0 - Absent / no Disease  1,2,3,4 - Presence/yes\n",
    "sn.countplot(df['target'], palette = 'pastel') #graphical representation of the target variable "
   ]
  },
  {
   "cell_type": "code",
   "execution_count": 81,
   "metadata": {},
   "outputs": [
    {
     "data": {
      "text/plain": [
       "1    207\n",
       "0     96\n",
       "Name: sex, dtype: int64"
      ]
     },
     "execution_count": 81,
     "metadata": {},
     "output_type": "execute_result"
    }
   ],
   "source": [
    "df['sex'].value_counts()"
   ]
  },
  {
   "cell_type": "code",
   "execution_count": 82,
   "metadata": {},
   "outputs": [
    {
     "data": {
      "image/png": "[encoded data removed]",
      "text/plain": [
       "<Figure size 648x648 with 1 Axes>"
      ]
     },
     "metadata": {},
     "output_type": "display_data"
    }
   ],
   "source": [
    "size = [205, 97]\n",
    "colors = ['lightblue', 'lightgreen']\n",
    "labels = \"Male\", \"Female\"\n",
    "explode = [0, 0.01]\n",
    "\n",
    "my_circle = plt.Circle((0, 0), 0.4, color = 'white')\n",
    "\n",
    "plt.rcParams['figure.figsize'] = (9, 9)\n",
    "plt.pie(size, colors = colors, labels = labels, shadow = True, explode = explode, autopct = '%.2f%%')\n",
    "plt.title('Distribution of Gender', fontsize = 20)\n",
    "p = plt.gcf()\n",
    "p.gca().add_artist(my_circle)\n",
    "plt.legend()\n",
    "plt.show()"
   ]
  },
  {
   "cell_type": "code",
   "execution_count": 83,
   "metadata": {},
   "outputs": [
    {
     "data": {
      "text/plain": [
       "array([[63.,  1.,  3., ...,  0.,  0.,  1.],\n",
       "       [37.,  1.,  2., ...,  0.,  0.,  2.],\n",
       "       [41.,  0.,  1., ...,  2.,  0.,  2.],\n",
       "       ...,\n",
       "       [68.,  1.,  0., ...,  1.,  2.,  3.],\n",
       "       [57.,  1.,  0., ...,  1.,  1.,  3.],\n",
       "       [57.,  0.,  1., ...,  1.,  1.,  2.]])"
      ]
     },
     "execution_count": 83,
     "metadata": {},
     "output_type": "execute_result"
    }
   ],
   "source": [
    "#To use scikit-learn library, we have to convert the Pandas data frame to a Numpy array:\n",
    "\n",
    "X=df.iloc[:, :-1].values\n",
    "X"
   ]
  },
  {
   "cell_type": "code",
   "execution_count": 84,
   "metadata": {},
   "outputs": [
    {
     "data": {
      "text/plain": [
       "0      1\n",
       "1      1\n",
       "2      1\n",
       "3      1\n",
       "4      1\n",
       "5      1\n",
       "6      1\n",
       "7      1\n",
       "8      1\n",
       "9      1\n",
       "10     1\n",
       "11     1\n",
       "12     1\n",
       "13     1\n",
       "14     1\n",
       "15     1\n",
       "16     1\n",
       "17     1\n",
       "18     1\n",
       "19     1\n",
       "20     1\n",
       "21     1\n",
       "22     1\n",
       "23     1\n",
       "24     1\n",
       "25     1\n",
       "26     1\n",
       "27     1\n",
       "28     1\n",
       "29     1\n",
       "      ..\n",
       "273    0\n",
       "274    0\n",
       "275    0\n",
       "276    0\n",
       "277    0\n",
       "278    0\n",
       "279    0\n",
       "280    0\n",
       "281    0\n",
       "282    0\n",
       "283    0\n",
       "284    0\n",
       "285    0\n",
       "286    0\n",
       "287    0\n",
       "288    0\n",
       "289    0\n",
       "290    0\n",
       "291    0\n",
       "292    0\n",
       "293    0\n",
       "294    0\n",
       "295    0\n",
       "296    0\n",
       "297    0\n",
       "298    0\n",
       "299    0\n",
       "300    0\n",
       "301    0\n",
       "302    0\n",
       "Name: target, Length: 303, dtype: int64"
      ]
     },
     "execution_count": 84,
     "metadata": {},
     "output_type": "execute_result"
    }
   ],
   "source": [
    "y = df.iloc[:,13]\n",
    "y"
   ]
  },
  {
   "cell_type": "code",
   "execution_count": 85,
   "metadata": {},
   "outputs": [],
   "source": [
    "#Splitting the dataset into Train and Test\n",
    "from sklearn.model_selection import train_test_split\n",
    "X_train, X_test, y_train, y_test = train_test_split( X, y, test_size=0.2, random_state=0)"
   ]
  },
  {
   "cell_type": "code",
   "execution_count": 86,
   "metadata": {},
   "outputs": [],
   "source": [
    "# scaling the dataset\n",
    "sc_X=StandardScaler()\n",
    "X_train=sc_X.fit_transform(X_train)\n",
    "X_test=sc_X.transform(X_test)"
   ]
  },
  {
   "cell_type": "code",
   "execution_count": 87,
   "metadata": {},
   "outputs": [
    {
     "data": {
      "text/plain": [
       "array([[-1.32773282, -1.43641607,  0.98584243, ..., -0.66169316,\n",
       "        -0.70710678, -0.46472917],\n",
       "       [ 1.24903178, -1.43641607,  0.98584243, ..., -0.66169316,\n",
       "         0.26516504, -0.46472917],\n",
       "       [ 0.35276583,  0.69617712,  0.98584243, ...,  0.95577901,\n",
       "        -0.70710678, -0.46472917],\n",
       "       ...,\n",
       "       [ 0.12869935,  0.69617712,  1.94013791, ..., -0.66169316,\n",
       "        -0.70710678,  1.14190596],\n",
       "       [-0.87959984,  0.69617712,  0.98584243, ...,  0.95577901,\n",
       "        -0.70710678, -0.46472917],\n",
       "       [ 0.35276583,  0.69617712,  0.03154696, ..., -0.66169316,\n",
       "        -0.70710678, -0.46472917]])"
      ]
     },
     "execution_count": 87,
     "metadata": {},
     "output_type": "execute_result"
    }
   ],
   "source": [
    "X_train"
   ]
  },
  {
   "cell_type": "code",
   "execution_count": 88,
   "metadata": {},
   "outputs": [
    {
     "data": {
      "text/plain": [
       "array([[ 1.69716475,  0.69617712, -0.92274852,  0.77251645, -1.36354075,\n",
       "        -0.41803981,  0.90163913, -1.07375268,  1.40984195,  1.2900049 ,\n",
       "        -2.27916533, -0.70710678,  1.14190596],\n",
       "       [ 1.02496529,  0.69617712,  1.94013791,  2.23625729, -0.3703119 ,\n",
       "        -0.41803981, -0.97936664,  0.22375805, -0.70929937, -0.38883987,\n",
       "        -0.66169316, -0.70710678,  1.14190596],\n",
       "       [ 0.46479907,  0.69617712,  1.94013791,  2.23625729,  0.7728383 ,\n",
       "        -0.41803981, -0.97936664,  0.39675948, -0.70929937, -0.72460883,\n",
       "        -0.66169316, -0.70710678,  1.14190596],\n",
       "       [ 0.57683232,  0.69617712, -0.92274852, -0.39847623,  0.21063328,\n",
       "        -0.41803981, -0.97936664, -0.38174696,  1.40984195,  1.45788938,\n",
       "        -0.66169316,  0.26516504,  1.14190596],\n",
       "       [ 0.8008988 ,  0.69617712,  0.98584243, -0.10572806, -0.29535123,\n",
       "        -0.41803981,  0.90163913, -0.16549517, -0.70929937,  0.61846699,\n",
       "        -0.66169316,  2.20970869,  1.14190596],\n",
       "       [-0.7675666 ,  0.69617712, -0.92274852, -0.45702586,  0.51047596,\n",
       "        -0.41803981, -0.97936664,  0.69951198, -0.70929937, -0.47278211,\n",
       "        -0.66169316, -0.70710678,  1.14190596],\n",
       "       [-1.66383254,  0.69617712, -0.92274852, -1.27672073, -1.49472192,\n",
       "        -0.41803981, -0.97936664, -1.54950661,  1.40984195,  0.78635147,\n",
       "        -0.66169316, -0.70710678,  1.14190596],\n",
       "       [ 0.91293205,  0.69617712, -0.92274852, -0.10572806,  0.13567261,\n",
       "        -0.41803981, -0.97936664, -0.12224481, -0.70929937,  0.28269804,\n",
       "        -0.66169316,  0.26516504,  1.14190596],\n",
       "       [ 0.12869935, -1.43641607, -0.92274852,  3.9927463 ,  0.7728383 ,\n",
       "         2.39211668, -0.97936664, -0.72774982,  1.40984195,  2.46519624,\n",
       "        -2.27916533,  1.23743687,  1.14190596],\n",
       "       [ 0.91293205,  0.69617712, -0.92274852, -0.10572806,  1.55992532,\n",
       "         2.39211668, -0.97936664, -0.77100017,  1.40984195,  0.61846699,\n",
       "         0.95577901,  2.20970869,  1.14190596],\n",
       "       [ 0.24073259,  0.69617712,  0.98584243,  1.06526461, -2.26306878,\n",
       "         2.39211668,  0.90163913,  1.00226448, -0.70929937, -0.72460883,\n",
       "         0.95577901,  0.26516504,  1.14190596],\n",
       "       [-0.65553336, -1.43641607, -0.92274852, -0.10572806,  0.41677512,\n",
       "        -0.41803981,  0.90163913,  0.56976091, -0.70929937, -0.89249331,\n",
       "         0.95577901, -0.70710678, -0.46472917],\n",
       "       [ 1.13699853,  0.69617712, -0.92274852,  0.18702011,  0.13567261,\n",
       "        -0.41803981, -0.97936664, -0.98725196, -0.70929937,  1.45788938,\n",
       "        -0.66169316,  0.26516504,  1.14190596],\n",
       "       [-0.65553336,  0.69617712,  0.03154696, -0.10572806,  0.36055462,\n",
       "        -0.41803981,  0.90163913,  0.91576377, -0.70929937, -0.38883987,\n",
       "         0.95577901, -0.70710678, -0.46472917],\n",
       "       [-0.54350011, -1.43641607,  0.98584243, -0.69122439, -0.52023323,\n",
       "        -0.41803981,  0.90163913,  0.35350912, -0.70929937,  0.45058251,\n",
       "        -0.66169316, -0.70710678, -0.46472917],\n",
       "       [-0.43146687,  0.69617712,  0.98584243, -1.86221707, -0.46401273,\n",
       "        -0.41803981,  0.90163913, -0.29524624,  1.40984195,  0.11481356,\n",
       "        -0.66169316, -0.70710678, -0.46472917],\n",
       "       [-0.31943363,  0.69617712, -0.92274852, -1.39382   , -0.25787089,\n",
       "         2.39211668,  0.90163913, -0.12224481, -0.70929937, -0.80855107,\n",
       "         0.95577901,  2.20970869,  1.14190596],\n",
       "       [-0.7675666 ,  0.69617712,  0.98584243, -0.45702586,  0.15441278,\n",
       "         2.39211668,  0.90163913,  1.0887652 , -0.70929937, -0.89249331,\n",
       "         0.95577901,  1.23743687, -0.46472917],\n",
       "       [ 0.8008988 ,  0.69617712, -0.92274852, -0.69122439,  0.37929479,\n",
       "        -0.41803981,  0.90163913, -2.19826197,  1.40984195,  0.61846699,\n",
       "        -0.66169316,  1.23743687,  1.14190596],\n",
       "       [-1.43976606,  0.69617712,  0.98584243, -0.69122439, -0.12668972,\n",
       "         2.39211668,  0.90163913,  1.91052199, -0.70929937, -0.2209554 ,\n",
       "        -2.27916533, -0.70710678,  1.14190596],\n",
       "       [-1.43976606,  0.69617712, -0.92274852,  0.47976828, -0.38905206,\n",
       "        -0.41803981,  0.90163913,  1.21851627, -0.70929937, -0.89249331,\n",
       "         0.95577901, -0.70710678, -0.46472917],\n",
       "       [-1.77586579,  0.69617712, -0.92274852, -0.80832366, -0.52023323,\n",
       "        -0.41803981,  0.90163913, -0.42499731, -0.70929937,  0.11481356,\n",
       "        -0.66169316, -0.70710678,  1.14190596],\n",
       "       [ 0.8008988 ,  0.69617712,  0.03154696, -0.69122439,  0.64165713,\n",
       "        -0.41803981, -0.97936664, -2.02526054, -0.70929937,  0.28269804,\n",
       "        -0.66169316,  0.26516504,  1.14190596],\n",
       "       [-0.09536714,  0.69617712, -0.92274852, -1.27672073, -0.76385541,\n",
       "        -0.41803981, -0.97936664, -1.80900875,  1.40984195, -0.89249331,\n",
       "        -0.66169316,  0.26516504, -0.46472917],\n",
       "       [-1.5517993 ,  0.69617712,  0.03154696, -1.27672073, -0.22039056,\n",
       "        -0.41803981,  0.90163913,  0.13725733, -0.70929937, -0.89249331,\n",
       "         0.95577901, -0.70710678, -0.46472917],\n",
       "       [ 0.8008988 , -1.43641607,  0.98584243, -0.10572806,  0.30433412,\n",
       "        -0.41803981,  0.90163913, -2.28476268, -0.70929937,  0.11481356,\n",
       "        -0.66169316,  0.26516504,  1.14190596],\n",
       "       [-0.31943363,  0.69617712, -0.92274852, -0.39847623, -0.6514144 ,\n",
       "        -0.41803981,  0.90163913,  0.78601269, -0.70929937, -0.05307092,\n",
       "         0.95577901,  1.23743687,  1.14190596],\n",
       "       [-0.99163309,  0.69617712, -0.92274852, -0.69122439,  0.04197178,\n",
       "        -0.41803981, -0.97936664, -0.25199588, -0.70929937, -0.2209554 ,\n",
       "         0.95577901, -0.70710678,  1.14190596],\n",
       "       [-1.77586579, -1.43641607,  0.98584243,  0.36266901, -0.50149307,\n",
       "        -0.41803981,  0.90163913,  0.09400698, -0.70929937, -0.89249331,\n",
       "        -0.66169316, -0.70710678, -0.46472917],\n",
       "       [-0.31943363,  0.69617712,  0.03154696,  0.12847048, -0.85755624,\n",
       "        -0.41803981,  0.90163913,  0.35350912, -0.70929937, -0.2209554 ,\n",
       "         0.95577901,  0.26516504, -0.46472917],\n",
       "       [ 0.57683232,  0.69617712,  0.98584243,  0.47976828, -1.15739892,\n",
       "        -0.41803981, -0.97936664,  0.22375805, -0.70929937,  1.62577385,\n",
       "        -0.66169316, -0.70710678, -0.46472917],\n",
       "       [-1.10366633,  0.69617712, -0.92274852,  0.59686755,  1.16638181,\n",
       "        -0.41803981, -0.97936664, -0.12224481,  1.40984195, -0.89249331,\n",
       "        -0.66169316,  2.20970869,  1.14190596],\n",
       "       [-1.5517993 , -1.43641607,  0.03154696, -0.33992659,  1.11016131,\n",
       "        -0.41803981,  0.90163913,  0.56976091, -0.70929937, -0.89249331,\n",
       "         0.95577901, -0.70710678, -0.46472917],\n",
       "       [-0.31943363,  0.69617712,  0.98584243,  2.35335655, -0.89503658,\n",
       "         2.39211668,  0.90163913,  0.52651055, -0.70929937, -0.47278211,\n",
       "         0.95577901, -0.70710678,  1.14190596],\n",
       "       [-2.22399876,  0.69617712,  0.03154696, -0.57412513, -1.02621775,\n",
       "        -0.41803981,  0.90163913,  1.04551484, -0.70929937, -0.89249331,\n",
       "         0.95577901, -0.70710678, -0.46472917],\n",
       "       [ 0.46479907, -1.43641607, -0.92274852,  2.47045582,  0.04197178,\n",
       "        -0.41803981,  0.90163913, -0.29524624,  1.40984195, -0.89249331,\n",
       "        -0.66169316, -0.70710678, -0.46472917],\n",
       "       [ 1.69716475,  0.69617712,  0.98584243,  1.65076095,  0.41677512,\n",
       "        -0.41803981,  0.90163913, -1.63600732,  1.40984195,  1.54183161,\n",
       "        -0.66169316,  0.26516504,  1.14190596],\n",
       "       [-1.10366633,  0.69617712,  0.03154696, -0.22282732,  1.14764164,\n",
       "        -0.41803981, -0.97936664,  0.87251341, -0.70929937, -0.89249331,\n",
       "         0.95577901, -0.70710678, -0.46472917],\n",
       "       [ 0.12869935,  0.69617712, -0.92274852, -0.39847623,  0.04197178,\n",
       "         2.39211668, -0.97936664, -0.25199588,  1.40984195,  0.11481356,\n",
       "        -0.66169316,  0.26516504, -0.46472917],\n",
       "       [ 0.8008988 , -1.43641607, -0.92274852,  0.47976828,  0.39803495,\n",
       "        -0.41803981, -0.97936664,  0.44000983, -0.70929937,  2.12942728,\n",
       "        -2.27916533,  1.23743687, -0.46472917],\n",
       "       [ 0.24073259,  0.69617712, -0.92274852,  0.47976828, -1.02621775,\n",
       "        -0.41803981,  0.90163913, -0.07899445, -0.70929937, -0.55672435,\n",
       "        -0.66169316, -0.70710678, -2.0713643 ],\n",
       "       [ 0.24073259, -1.43641607, -0.92274852, -0.22282732,  1.0539408 ,\n",
       "        -0.41803981, -0.97936664,  0.39675948, -0.70929937, -0.89249331,\n",
       "         0.95577901,  0.26516504, -0.46472917],\n",
       "       [-0.31943363,  0.69617712,  0.98584243,  0.36266901, -0.44527257,\n",
       "        -0.41803981,  0.90163913,  0.82926305, -0.70929937, -0.89249331,\n",
       "         0.95577901,  3.18198052, -0.46472917],\n",
       "       [-0.87959984,  0.69617712, -0.92274852, -1.27672073,  0.52921612,\n",
       "        -0.41803981, -0.97936664, -1.37650518,  1.40984195, -0.05307092,\n",
       "        -0.66169316,  0.26516504, -0.46472917],\n",
       "       [-0.43146687,  0.69617712,  1.94013791, -0.39847623, -0.63267424,\n",
       "        -0.41803981, -0.97936664, -1.07375268,  1.40984195,  0.28269804,\n",
       "         0.95577901,  0.26516504, -0.46472917],\n",
       "       [ 1.69716475,  0.69617712,  0.03154696,  1.41656242, -0.03298889,\n",
       "        -0.41803981, -0.97936664, -0.29524624, -0.70929937, -0.89249331,\n",
       "         0.95577901, -0.70710678, -0.46472917],\n",
       "       [-1.5517993 ,  0.69617712,  0.98584243, -0.10572806, -0.61393407,\n",
       "        -0.41803981, -0.97936664,  0.78601269, -0.70929937,  0.78635147,\n",
       "        -0.66169316, -0.70710678, -0.46472917],\n",
       "       [-0.54350011,  0.69617712,  0.98584243,  0.47976828, -0.25787089,\n",
       "        -0.41803981,  0.90163913,  0.56976091, -0.70929937, -0.38883987,\n",
       "        -0.66169316,  0.26516504,  1.14190596],\n",
       "       [ 0.12869935, -1.43641607, -0.92274852,  0.12847048,  3.04039852,\n",
       "        -0.41803981, -0.97936664,  0.00750626,  1.40984195,  0.70240923,\n",
       "        -0.66169316,  1.23743687,  1.14190596],\n",
       "       [-1.21569957,  0.69617712,  0.03154696, -0.69122439,  0.30433412,\n",
       "        -0.41803981,  0.90163913,  1.00226448, -0.70929937, -0.89249331,\n",
       "         0.95577901, -0.70710678,  1.14190596],\n",
       "       [-0.31943363,  0.69617712,  0.03154696, -0.69122439,  1.46622448,\n",
       "        -0.41803981,  0.90163913,  0.95901412, -0.70929937, -0.72460883,\n",
       "         0.95577901, -0.70710678, -0.46472917],\n",
       "       [ 2.14529772, -1.43641607,  0.03154696, -0.69122439,  0.41677512,\n",
       "        -0.41803981, -0.97936664, -1.24675411,  1.40984195, -0.72460883,\n",
       "         0.95577901,  0.26516504, -0.46472917],\n",
       "       [-1.5517993 , -1.43641607,  0.98584243, -1.15962146,  0.39803495,\n",
       "        -0.41803981, -0.97936664,  0.95901412,  1.40984195, -0.89249331,\n",
       "         0.95577901, -0.70710678, -0.46472917],\n",
       "       [-1.5517993 ,  0.69617712,  0.03154696,  0.18702011, -0.82007591,\n",
       "        -0.41803981,  0.90163913, -0.77100017, -0.70929937, -0.89249331,\n",
       "        -0.66169316, -0.70710678, -2.0713643 ],\n",
       "       [-1.77586579, -1.43641607,  0.98584243, -2.21351487, -0.89503658,\n",
       "        -0.41803981,  0.90163913,  1.26176663, -0.70929937, -0.89249331,\n",
       "         0.95577901, -0.70710678, -0.46472917],\n",
       "       [-2.22399876,  0.69617712, -0.92274852, -0.69122439, -0.91377674,\n",
       "        -0.41803981,  0.90163913, -0.85750089,  1.40984195,  0.45058251,\n",
       "        -0.66169316, -0.70710678,  1.14190596],\n",
       "       [-1.21569957, -1.43641607,  0.98584243, -0.80832366, -0.08920939,\n",
       "        -0.41803981,  0.90163913, -0.0357441 , -0.70929937, -0.64066659,\n",
       "        -0.66169316,  0.26516504, -0.46472917],\n",
       "       [ 0.24073259, -1.43641607,  0.03154696, -0.10572806, -0.20165039,\n",
       "        -0.41803981, -0.97936664,  1.04551484, -0.70929937, -0.89249331,\n",
       "        -0.66169316,  0.26516504, -0.46472917],\n",
       "       [ 0.46479907,  0.69617712,  0.98584243,  1.06526461, -0.6514144 ,\n",
       "         2.39211668,  0.90163913,  0.31025876, -0.70929937,  0.45058251,\n",
       "         0.95577901, -0.70710678, -0.46472917],\n",
       "       [-0.54350011, -1.43641607,  0.03154696, -0.69122439, -0.05172906,\n",
       "        -0.41803981,  0.90163913,  0.52651055, -0.70929937,  0.03087132,\n",
       "         0.95577901, -0.70710678, -0.46472917],\n",
       "       [ 0.35276583, -1.43641607, -0.92274852, -1.86221707,  0.02323161,\n",
       "        -0.41803981, -0.97936664, -1.20350375, -0.70929937, -0.05307092,\n",
       "        -0.66169316, -0.70710678, -0.46472917]])"
      ]
     },
     "execution_count": 88,
     "metadata": {},
     "output_type": "execute_result"
    }
   ],
   "source": [
    "X_test"
   ]
  },
  {
   "cell_type": "code",
   "execution_count": 89,
   "metadata": {},
   "outputs": [
    {
     "name": "stdout",
     "output_type": "stream",
     "text": [
      "Train set: (242, 13) (242,)\n",
      "Test set: (61, 13) (61,)\n"
     ]
    }
   ],
   "source": [
    "#Shape of train and test data\n",
    "print ('Train set:', X_train.shape,  y_train.shape)\n",
    "print ('Test set:', X_test.shape,  y_test.shape)"
   ]
  },
  {
   "cell_type": "code",
   "execution_count": 90,
   "metadata": {},
   "outputs": [],
   "source": [
    "# Using KNeighborsClassifier\n",
    "from sklearn.neighbors import KNeighborsClassifier\n"
   ]
  },
  {
   "cell_type": "code",
   "execution_count": 91,
   "metadata": {},
   "outputs": [],
   "source": [
    "#Train Model  \n",
    "neigh = KNeighborsClassifier(n_neighbors = 4).fit(X_train,y_train)"
   ]
  },
  {
   "cell_type": "code",
   "execution_count": 92,
   "metadata": {},
   "outputs": [],
   "source": [
    "#Prediction\n",
    "prediction = neigh.predict(X_test)"
   ]
  },
  {
   "cell_type": "code",
   "execution_count": 93,
   "metadata": {},
   "outputs": [
    {
     "data": {
      "text/html": [
       "<div>\n",
       "<style scoped>\n",
       "    .dataframe tbody tr th:only-of-type {\n",
       "        vertical-align: middle;\n",
       "    }\n",
       "\n",
       "    .dataframe tbody tr th {\n",
       "        vertical-align: top;\n",
       "    }\n",
       "\n",
       "    .dataframe thead th {\n",
       "        text-align: right;\n",
       "    }\n",
       "</style>\n",
       "<table border=\"1\" class=\"dataframe\">\n",
       "  <thead>\n",
       "    <tr style=\"text-align: right;\">\n",
       "      <th></th>\n",
       "      <th>0</th>\n",
       "    </tr>\n",
       "  </thead>\n",
       "  <tbody>\n",
       "    <tr>\n",
       "      <th>0</th>\n",
       "      <td>0</td>\n",
       "    </tr>\n",
       "    <tr>\n",
       "      <th>1</th>\n",
       "      <td>0</td>\n",
       "    </tr>\n",
       "    <tr>\n",
       "      <th>2</th>\n",
       "      <td>0</td>\n",
       "    </tr>\n",
       "    <tr>\n",
       "      <th>3</th>\n",
       "      <td>0</td>\n",
       "    </tr>\n",
       "    <tr>\n",
       "      <th>4</th>\n",
       "      <td>0</td>\n",
       "    </tr>\n",
       "  </tbody>\n",
       "</table>\n",
       "</div>"
      ],
      "text/plain": [
       "   0\n",
       "0  0\n",
       "1  0\n",
       "2  0\n",
       "3  0\n",
       "4  0"
      ]
     },
     "execution_count": 93,
     "metadata": {},
     "output_type": "execute_result"
    }
   ],
   "source": [
    "prediction1=pd.DataFrame(prediction)\n",
    "prediction1.head()"
   ]
  },
  {
   "cell_type": "code",
   "execution_count": 94,
   "metadata": {},
   "outputs": [
    {
     "data": {
      "text/plain": [
       "0.8524590163934426"
      ]
     },
     "execution_count": 94,
     "metadata": {},
     "output_type": "execute_result"
    }
   ],
   "source": [
    "#Accuracy\n",
    "from sklearn import metrics\n",
    "metrics.accuracy_score(y_test, prediction)"
   ]
  },
  {
   "cell_type": "code",
   "execution_count": 95,
   "metadata": {},
   "outputs": [
    {
     "data": {
      "text/plain": [
       "SVC(C=1.0, cache_size=200, class_weight=None, coef0=0.0,\n",
       "    decision_function_shape='ovr', degree=3, gamma='auto_deprecated',\n",
       "    kernel='rbf', max_iter=-1, probability=False, random_state=0,\n",
       "    shrinking=True, tol=0.001, verbose=False)"
      ]
     },
     "execution_count": 95,
     "metadata": {},
     "output_type": "execute_result"
    }
   ],
   "source": [
    "# Now Using SVM Algorithm \n",
    "from sklearn.svm import SVC\n",
    "classifier=SVC(kernel='rbf',random_state=0)\n",
    "classifier.fit(X_train,y_train)\n"
   ]
  },
  {
   "cell_type": "code",
   "execution_count": 96,
   "metadata": {},
   "outputs": [],
   "source": [
    "#Predict\n",
    "y_pred=classifier.predict(X_test)"
   ]
  },
  {
   "cell_type": "code",
   "execution_count": 97,
   "metadata": {},
   "outputs": [
    {
     "data": {
      "text/html": [
       "<div>\n",
       "<style scoped>\n",
       "    .dataframe tbody tr th:only-of-type {\n",
       "        vertical-align: middle;\n",
       "    }\n",
       "\n",
       "    .dataframe tbody tr th {\n",
       "        vertical-align: top;\n",
       "    }\n",
       "\n",
       "    .dataframe thead th {\n",
       "        text-align: right;\n",
       "    }\n",
       "</style>\n",
       "<table border=\"1\" class=\"dataframe\">\n",
       "  <thead>\n",
       "    <tr style=\"text-align: right;\">\n",
       "      <th></th>\n",
       "      <th>0</th>\n",
       "    </tr>\n",
       "  </thead>\n",
       "  <tbody>\n",
       "    <tr>\n",
       "      <th>0</th>\n",
       "      <td>0</td>\n",
       "    </tr>\n",
       "    <tr>\n",
       "      <th>1</th>\n",
       "      <td>1</td>\n",
       "    </tr>\n",
       "    <tr>\n",
       "      <th>2</th>\n",
       "      <td>1</td>\n",
       "    </tr>\n",
       "    <tr>\n",
       "      <th>3</th>\n",
       "      <td>0</td>\n",
       "    </tr>\n",
       "    <tr>\n",
       "      <th>4</th>\n",
       "      <td>0</td>\n",
       "    </tr>\n",
       "  </tbody>\n",
       "</table>\n",
       "</div>"
      ],
      "text/plain": [
       "   0\n",
       "0  0\n",
       "1  1\n",
       "2  1\n",
       "3  0\n",
       "4  0"
      ]
     },
     "execution_count": 97,
     "metadata": {},
     "output_type": "execute_result"
    }
   ],
   "source": [
    "prediction2=pd.DataFrame(y_pred)\n",
    "prediction2.head()"
   ]
  },
  {
   "cell_type": "code",
   "execution_count": 98,
   "metadata": {},
   "outputs": [
    {
     "data": {
      "text/plain": [
       "0.8688524590163934"
      ]
     },
     "execution_count": 98,
     "metadata": {},
     "output_type": "execute_result"
    }
   ],
   "source": [
    "#Accuracy\n",
    "metrics.accuracy_score(y_test, prediction2)"
   ]
  },
  {
   "cell_type": "code",
   "execution_count": 99,
   "metadata": {},
   "outputs": [
    {
     "data": {
      "text/plain": [
       "array([[23,  4],\n",
       "       [ 5, 29]], dtype=int64)"
      ]
     },
     "execution_count": 99,
     "metadata": {},
     "output_type": "execute_result"
    }
   ],
   "source": [
    "from sklearn.metrics import confusion_matrix\n",
    "confusion_matrix(y_test,prediction1)"
   ]
  },
  {
   "cell_type": "code",
   "execution_count": 100,
   "metadata": {},
   "outputs": [
    {
     "data": {
      "text/plain": [
       "array([[21,  6],\n",
       "       [ 2, 32]], dtype=int64)"
      ]
     },
     "execution_count": 100,
     "metadata": {},
     "output_type": "execute_result"
    }
   ],
   "source": [
    "confusion_matrix(y_test,prediction2)"
   ]
  },
  {
   "cell_type": "code",
   "execution_count": 101,
   "metadata": {},
   "outputs": [],
   "source": [
    "#Using DecisionTreeClassifier\n",
    "from sklearn.tree import DecisionTreeClassifier\n",
    "HeartTree = DecisionTreeClassifier(criterion=\"entropy\", max_depth = 4)"
   ]
  },
  {
   "cell_type": "code",
   "execution_count": 102,
   "metadata": {},
   "outputs": [
    {
     "data": {
      "text/plain": [
       "DecisionTreeClassifier(class_weight=None, criterion='entropy', max_depth=4,\n",
       "                       max_features=None, max_leaf_nodes=None,\n",
       "                       min_impurity_decrease=0.0, min_impurity_split=None,\n",
       "                       min_samples_leaf=1, min_samples_split=2,\n",
       "                       min_weight_fraction_leaf=0.0, presort=False,\n",
       "                       random_state=None, splitter='best')"
      ]
     },
     "execution_count": 102,
     "metadata": {},
     "output_type": "execute_result"
    }
   ],
   "source": [
    "HeartTree.fit(X_train,y_train)"
   ]
  },
  {
   "cell_type": "code",
   "execution_count": 103,
   "metadata": {},
   "outputs": [],
   "source": [
    "y_pred = HeartTree.predict(X_test)"
   ]
  },
  {
   "cell_type": "code",
   "execution_count": 104,
   "metadata": {},
   "outputs": [
    {
     "data": {
      "text/html": [
       "<div>\n",
       "<style scoped>\n",
       "    .dataframe tbody tr th:only-of-type {\n",
       "        vertical-align: middle;\n",
       "    }\n",
       "\n",
       "    .dataframe tbody tr th {\n",
       "        vertical-align: top;\n",
       "    }\n",
       "\n",
       "    .dataframe thead th {\n",
       "        text-align: right;\n",
       "    }\n",
       "</style>\n",
       "<table border=\"1\" class=\"dataframe\">\n",
       "  <thead>\n",
       "    <tr style=\"text-align: right;\">\n",
       "      <th></th>\n",
       "      <th>0</th>\n",
       "    </tr>\n",
       "  </thead>\n",
       "  <tbody>\n",
       "    <tr>\n",
       "      <th>0</th>\n",
       "      <td>0</td>\n",
       "    </tr>\n",
       "    <tr>\n",
       "      <th>1</th>\n",
       "      <td>0</td>\n",
       "    </tr>\n",
       "    <tr>\n",
       "      <th>2</th>\n",
       "      <td>0</td>\n",
       "    </tr>\n",
       "    <tr>\n",
       "      <th>3</th>\n",
       "      <td>0</td>\n",
       "    </tr>\n",
       "    <tr>\n",
       "      <th>4</th>\n",
       "      <td>0</td>\n",
       "    </tr>\n",
       "  </tbody>\n",
       "</table>\n",
       "</div>"
      ],
      "text/plain": [
       "   0\n",
       "0  0\n",
       "1  0\n",
       "2  0\n",
       "3  0\n",
       "4  0"
      ]
     },
     "execution_count": 104,
     "metadata": {},
     "output_type": "execute_result"
    }
   ],
   "source": [
    "prediction3=pd.DataFrame(y_pred)\n",
    "prediction3.head()"
   ]
  },
  {
   "cell_type": "code",
   "execution_count": 105,
   "metadata": {},
   "outputs": [
    {
     "data": {
      "text/plain": [
       "0.7540983606557377"
      ]
     },
     "execution_count": 105,
     "metadata": {},
     "output_type": "execute_result"
    }
   ],
   "source": [
    "#Accuracy\n",
    "metrics.accuracy_score(y_test,prediction3)"
   ]
  },
  {
   "cell_type": "code",
   "execution_count": 106,
   "metadata": {},
   "outputs": [
    {
     "data": {
      "text/plain": [
       "array([[22,  5],\n",
       "       [10, 24]], dtype=int64)"
      ]
     },
     "execution_count": 106,
     "metadata": {},
     "output_type": "execute_result"
    }
   ],
   "source": [
    "confusion_matrix(y_test,prediction3)"
   ]
  }
 ],
 "metadata": {
  "kernelspec": {
   "display_name": "Python 3",
   "language": "python",
   "name": "python3"
  },
  "language_info": {
   "codemirror_mode": {
    "name": "ipython",
    "version": 3
   },
   "file_extension": ".py",
   "mimetype": "text/x-python",
   "name": "python",
   "nbconvert_exporter": "python",
   "pygments_lexer": "ipython3",
   "version": "3.7.3"
  }
 },
 "nbformat": 4,
 "nbformat_minor": 2
}
